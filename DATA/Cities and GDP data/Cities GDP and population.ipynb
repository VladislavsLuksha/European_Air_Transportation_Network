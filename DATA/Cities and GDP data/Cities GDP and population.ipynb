{
 "cells": [
  {
   "cell_type": "code",
   "execution_count": 209,
   "id": "50740df4",
   "metadata": {},
   "outputs": [],
   "source": [
    "import networkx as nx\n",
    "import pandas as pd\n",
    "import networkx.algorithms.community as nx_comm\n",
    "import community as community_louvain\n",
    "import matplotlib.cm as cm\n",
    "from statsmodels.distributions.empirical_distribution import ECDF\n",
    "import numpy as np\n",
    "import matplotlib.pyplot as plt\n",
    "import scipy.stats\n",
    "import powerlaw\n"
   ]
  },
  {
   "cell_type": "code",
   "execution_count": 210,
   "id": "ce337ce6",
   "metadata": {},
   "outputs": [],
   "source": [
    "cities = pd.read_csv('/Users/vladislavluksha/cities.csv')"
   ]
  },
  {
   "cell_type": "code",
   "execution_count": 211,
   "id": "48fcc5cb",
   "metadata": {
    "scrolled": false
   },
   "outputs": [
    {
     "name": "stdout",
     "output_type": "stream",
     "text": [
      "<class 'pandas.core.frame.DataFrame'>\n",
      "Int64Index: 624 entries, 0 to 19940\n",
      "Data columns (total 5 columns):\n",
      " #   Column              Non-Null Count  Dtype  \n",
      "---  ------              --------------  -----  \n",
      " 0   City_origin         624 non-null    object \n",
      " 1   Country_origin      624 non-null    object \n",
      " 2   Latitude_origin     624 non-null    float64\n",
      " 3   Longitude_origin    624 non-null    float64\n",
      " 4   departure_iataCode  624 non-null    object \n",
      "dtypes: float64(2), object(3)\n",
      "memory usage: 29.2+ KB\n"
     ]
    }
   ],
   "source": [
    "cities = cities.drop_duplicates()\n",
    "cities.info()"
   ]
  },
  {
   "cell_type": "code",
   "execution_count": 175,
   "id": "7cc02188",
   "metadata": {},
   "outputs": [],
   "source": [
    "import qwikidata\n",
    "import qwikidata.sparql\n",
    "\n",
    "def get_city_wikidata(city, country):\n",
    "    query = \"\"\"\n",
    "    SELECT ?city ?cityLabel ?country ?countryLabel ?population\n",
    "    WHERE\n",
    "    {\n",
    "      ?city rdfs:label '%s'@en.\n",
    "      ?city wdt:P1082 ?population.\n",
    "      ?city wdt:P17 ?country.\n",
    "      ?city rdfs:label ?cityLabel.\n",
    "      ?country rdfs:label ?countryLabel.\n",
    "      FILTER(LANG(?cityLabel) = \"en\").\n",
    "      FILTER(LANG(?countryLabel) = \"en\").\n",
    "      FILTER(CONTAINS(?countryLabel, \"%s\")).\n",
    "    }\n",
    "    \"\"\" % (city, country)\n",
    "\n",
    "    res = qwikidata.sparql.return_sparql_query_results(query)\n",
    "    out = res['results']['bindings'][0]\n",
    "    return out"
   ]
  },
  {
   "cell_type": "code",
   "execution_count": 176,
   "id": "b016eead",
   "metadata": {},
   "outputs": [],
   "source": [
    "def get_city_population(city, country):\n",
    "    try:\n",
    "        result = get_city_wikidata(city, country)\n",
    "        population = int(result['population']['value'])\n",
    "        return population\n",
    "    except:\n",
    "        return None\n",
    "\n",
    "cities['population'] = cities.apply(lambda row: get_city_population(row['City_origin'], row['Country_origin']), axis=1)\n"
   ]
  },
  {
   "cell_type": "code",
   "execution_count": 177,
   "id": "99826ff5",
   "metadata": {},
   "outputs": [
    {
     "data": {
      "text/plain": [
       "<bound method NDFrame.head of       City_origin Country_origin  Latitude_origin  Longitude_origin iso_code  \\\n",
       "0         Aalborg        Denmark        57.092759          9.849243      NaN   \n",
       "1          Aarhus        Denmark        56.299999         10.619000      NaN   \n",
       "2        Alicante          Spain        38.282200         -0.558156      NaN   \n",
       "3         Antwerp        Belgium        51.189400          4.460280      NaN   \n",
       "4       Stockholm         Sweden        59.651901         17.918600      NaN   \n",
       "...           ...            ...              ...               ...      ...   \n",
       "19935      Kardla        Estonia        58.990799         22.830700      NaN   \n",
       "19936  Kuressaare        Estonia        58.229900         22.509501      NaN   \n",
       "19938        Agen         France        44.174702          0.590556      NaN   \n",
       "19939     Orleans         France        47.987801          1.760560      NaN   \n",
       "19940    Braganca       Portugal        41.857800         -6.707130      NaN   \n",
       "\n",
       "       population  \n",
       "0        113417.0  \n",
       "1        269022.0  \n",
       "2        338577.0  \n",
       "3        529247.0  \n",
       "4        978770.0  \n",
       "...           ...  \n",
       "19935         NaN  \n",
       "19936         NaN  \n",
       "19938     32602.0  \n",
       "19939         NaN  \n",
       "19940         NaN  \n",
       "\n",
       "[624 rows x 6 columns]>"
      ]
     },
     "execution_count": 177,
     "metadata": {},
     "output_type": "execute_result"
    }
   ],
   "source": [
    "cities.head"
   ]
  },
  {
   "cell_type": "code",
   "execution_count": 212,
   "id": "32dd746a",
   "metadata": {},
   "outputs": [],
   "source": [
    "import wbdata\n",
    "import pandas as pd\n",
    "import datetime"
   ]
  },
  {
   "cell_type": "code",
   "execution_count": 213,
   "id": "31f59838",
   "metadata": {},
   "outputs": [],
   "source": [
    "import pycountry\n",
    "\n",
    "# create a function to get the ISO-3 code for a given country name\n",
    "def get_iso_code(country_name):\n",
    "    try:\n",
    "        country = pycountry.countries.get(name=country_name)\n",
    "        return country.alpha_3\n",
    "    except AttributeError:\n",
    "        return None\n",
    "\n"
   ]
  },
  {
   "cell_type": "code",
   "execution_count": 214,
   "id": "ddd7c7f8",
   "metadata": {},
   "outputs": [],
   "source": [
    "# add a new column to the dataframe with the ISO-3 code for each country\n",
    "cities['iso_code'] = cities['Country_origin'].apply(get_iso_code)\n"
   ]
  },
  {
   "cell_type": "code",
   "execution_count": 215,
   "id": "54d73f9c",
   "metadata": {
    "scrolled": true
   },
   "outputs": [
    {
     "data": {
      "text/html": [
       "<div>\n",
       "<style scoped>\n",
       "    .dataframe tbody tr th:only-of-type {\n",
       "        vertical-align: middle;\n",
       "    }\n",
       "\n",
       "    .dataframe tbody tr th {\n",
       "        vertical-align: top;\n",
       "    }\n",
       "\n",
       "    .dataframe thead th {\n",
       "        text-align: right;\n",
       "    }\n",
       "</style>\n",
       "<table border=\"1\" class=\"dataframe\">\n",
       "  <thead>\n",
       "    <tr style=\"text-align: right;\">\n",
       "      <th></th>\n",
       "      <th>City_origin</th>\n",
       "      <th>Country_origin</th>\n",
       "      <th>Latitude_origin</th>\n",
       "      <th>Longitude_origin</th>\n",
       "      <th>departure_iataCode</th>\n",
       "      <th>iso_code</th>\n",
       "    </tr>\n",
       "  </thead>\n",
       "  <tbody>\n",
       "    <tr>\n",
       "      <th>637</th>\n",
       "      <td>Skopje</td>\n",
       "      <td>Macedonia</td>\n",
       "      <td>41.961601</td>\n",
       "      <td>21.621401</td>\n",
       "      <td>SKP</td>\n",
       "      <td>None</td>\n",
       "    </tr>\n",
       "    <tr>\n",
       "      <th>19793</th>\n",
       "      <td>Ohrid</td>\n",
       "      <td>Macedonia</td>\n",
       "      <td>41.180000</td>\n",
       "      <td>20.742300</td>\n",
       "      <td>OHD</td>\n",
       "      <td>None</td>\n",
       "    </tr>\n",
       "  </tbody>\n",
       "</table>\n",
       "</div>"
      ],
      "text/plain": [
       "      City_origin Country_origin  Latitude_origin  Longitude_origin  \\\n",
       "637        Skopje      Macedonia        41.961601         21.621401   \n",
       "19793       Ohrid      Macedonia        41.180000         20.742300   \n",
       "\n",
       "      departure_iataCode iso_code  \n",
       "637                  SKP     None  \n",
       "19793                OHD     None  "
      ]
     },
     "execution_count": 215,
     "metadata": {},
     "output_type": "execute_result"
    }
   ],
   "source": [
    "cities[cities['Country_origin'] == 'Macedonia']"
   ]
  },
  {
   "cell_type": "code",
   "execution_count": 216,
   "id": "872ce3b0",
   "metadata": {},
   "outputs": [],
   "source": [
    "cities.loc[cities['Country_origin'] == 'Russia', 'iso_code'] = 'RUS'"
   ]
  },
  {
   "cell_type": "code",
   "execution_count": 217,
   "id": "f533d8b2",
   "metadata": {},
   "outputs": [],
   "source": [
    "cities.loc[cities['Country_origin'] == 'Czech Republic', 'iso_code'] = 'CZE'"
   ]
  },
  {
   "cell_type": "code",
   "execution_count": 218,
   "id": "a0cde9b4",
   "metadata": {},
   "outputs": [],
   "source": [
    "cities.loc[cities['Country_origin'] == 'Moldova', 'iso_code'] = 'MDA'"
   ]
  },
  {
   "cell_type": "code",
   "execution_count": 219,
   "id": "dbd76b24",
   "metadata": {},
   "outputs": [],
   "source": [
    "cities.loc[cities['Country_origin'] == 'Macedonia', 'iso_code'] = 'MKD'"
   ]
  },
  {
   "cell_type": "code",
   "execution_count": 220,
   "id": "26039883",
   "metadata": {},
   "outputs": [
    {
     "data": {
      "text/html": [
       "<div>\n",
       "<style scoped>\n",
       "    .dataframe tbody tr th:only-of-type {\n",
       "        vertical-align: middle;\n",
       "    }\n",
       "\n",
       "    .dataframe tbody tr th {\n",
       "        vertical-align: top;\n",
       "    }\n",
       "\n",
       "    .dataframe thead th {\n",
       "        text-align: right;\n",
       "    }\n",
       "</style>\n",
       "<table border=\"1\" class=\"dataframe\">\n",
       "  <thead>\n",
       "    <tr style=\"text-align: right;\">\n",
       "      <th></th>\n",
       "      <th>City_origin</th>\n",
       "      <th>Country_origin</th>\n",
       "      <th>Latitude_origin</th>\n",
       "      <th>Longitude_origin</th>\n",
       "      <th>departure_iataCode</th>\n",
       "      <th>iso_code</th>\n",
       "    </tr>\n",
       "  </thead>\n",
       "  <tbody>\n",
       "    <tr>\n",
       "      <th>0</th>\n",
       "      <td>Aalborg</td>\n",
       "      <td>Denmark</td>\n",
       "      <td>57.092759</td>\n",
       "      <td>9.849243</td>\n",
       "      <td>AAL</td>\n",
       "      <td>DNK</td>\n",
       "    </tr>\n",
       "    <tr>\n",
       "      <th>1</th>\n",
       "      <td>Aarhus</td>\n",
       "      <td>Denmark</td>\n",
       "      <td>56.299999</td>\n",
       "      <td>10.619000</td>\n",
       "      <td>AAR</td>\n",
       "      <td>DNK</td>\n",
       "    </tr>\n",
       "    <tr>\n",
       "      <th>2</th>\n",
       "      <td>Alicante</td>\n",
       "      <td>Spain</td>\n",
       "      <td>38.282200</td>\n",
       "      <td>-0.558156</td>\n",
       "      <td>ALC</td>\n",
       "      <td>ESP</td>\n",
       "    </tr>\n",
       "    <tr>\n",
       "      <th>3</th>\n",
       "      <td>Antwerp</td>\n",
       "      <td>Belgium</td>\n",
       "      <td>51.189400</td>\n",
       "      <td>4.460280</td>\n",
       "      <td>ANR</td>\n",
       "      <td>BEL</td>\n",
       "    </tr>\n",
       "    <tr>\n",
       "      <th>4</th>\n",
       "      <td>Stockholm</td>\n",
       "      <td>Sweden</td>\n",
       "      <td>59.651901</td>\n",
       "      <td>17.918600</td>\n",
       "      <td>ARN</td>\n",
       "      <td>SWE</td>\n",
       "    </tr>\n",
       "  </tbody>\n",
       "</table>\n",
       "</div>"
      ],
      "text/plain": [
       "  City_origin Country_origin  Latitude_origin  Longitude_origin  \\\n",
       "0     Aalborg        Denmark        57.092759          9.849243   \n",
       "1      Aarhus        Denmark        56.299999         10.619000   \n",
       "2    Alicante          Spain        38.282200         -0.558156   \n",
       "3     Antwerp        Belgium        51.189400          4.460280   \n",
       "4   Stockholm         Sweden        59.651901         17.918600   \n",
       "\n",
       "  departure_iataCode iso_code  \n",
       "0                AAL      DNK  \n",
       "1                AAR      DNK  \n",
       "2                ALC      ESP  \n",
       "3                ANR      BEL  \n",
       "4                ARN      SWE  "
      ]
     },
     "execution_count": 220,
     "metadata": {},
     "output_type": "execute_result"
    }
   ],
   "source": [
    "cities.head()"
   ]
  },
  {
   "cell_type": "code",
   "execution_count": 221,
   "id": "75ee2434",
   "metadata": {},
   "outputs": [],
   "source": [
    "import requests\n",
    "\n",
    "def get_gdp(country_code, city_name):\n",
    "    url = f\"http://api.worldbank.org/v2/country/{country_code}/indicator/NY.GDP.MKTP.CD?format=json\"\n",
    "    response = requests.get(url)\n",
    "    data = response.json()\n",
    "    \n",
    "    # Extract GDP value for the most recent year available\n",
    "    try:\n",
    "        gdp = [d['value'] for d in data[1] if d['countryiso3code'] == country_code and d['date'] == '2020'][0]\n",
    "        return gdp\n",
    "    except:\n",
    "        print(f\"No GDP data found for {city_name}, {country_code}\")\n",
    "        return None\n"
   ]
  },
  {
   "cell_type": "code",
   "execution_count": 222,
   "id": "aef5d98d",
   "metadata": {},
   "outputs": [
    {
     "name": "stdout",
     "output_type": "stream",
     "text": [
      "No GDP data found for Jersey, JEY\n",
      "No GDP data found for Guernsey, GGY\n",
      "No GDP data found for Alderney, GGY\n"
     ]
    }
   ],
   "source": [
    "cities['GDP'] = cities.apply(lambda x: get_gdp(x['iso_code'], x['City_origin']), axis=1)\n"
   ]
  },
  {
   "cell_type": "code",
   "execution_count": 223,
   "id": "ccb07807",
   "metadata": {},
   "outputs": [],
   "source": [
    "import pycountry\n",
    "\n",
    "def get_country_code(country_name):\n",
    "    try:\n",
    "        country_code = pycountry.countries.search_fuzzy(country_name)[0].alpha_2\n",
    "    except LookupError:\n",
    "        country_code = None\n",
    "    return country_code"
   ]
  },
  {
   "cell_type": "code",
   "execution_count": 224,
   "id": "2ce9fcea",
   "metadata": {},
   "outputs": [],
   "source": [
    "cities['two_letter_code'] = cities['Country_origin'].apply(get_country_code)"
   ]
  },
  {
   "cell_type": "code",
   "execution_count": 225,
   "id": "057784d3",
   "metadata": {},
   "outputs": [],
   "source": [
    "cities.at[337,'City_origin'] = 'Minsk'"
   ]
  },
  {
   "cell_type": "code",
   "execution_count": 194,
   "id": "1b66c8a6",
   "metadata": {},
   "outputs": [],
   "source": [
    "import requests\n",
    "import pandas as pd\n",
    "\n",
    "# function to look up population based on country and city name using Geonames API\n",
    "def get_population(city, country):\n",
    "    username = 'vladluksha'\n",
    "    url = f'http://api.geonames.org/searchJSON?q={city}&country={country}&maxRows=1&username={username}'\n",
    "    response = requests.get(url)\n",
    "    if response.status_code == 200:\n",
    "        data = response.json()\n",
    "        if data.get('geonames') and data.get('geonames')[0].get('population'):\n",
    "            return data.get('geonames')[0].get('population')\n",
    "    return None\n",
    "\n"
   ]
  },
  {
   "cell_type": "code",
   "execution_count": 195,
   "id": "345ac97d",
   "metadata": {},
   "outputs": [],
   "source": [
    "cities['population'] = cities.apply(lambda x: get_population(x['City_origin'], x['iso_code']), axis=1)"
   ]
  },
  {
   "cell_type": "code",
   "execution_count": 196,
   "id": "0314836d",
   "metadata": {},
   "outputs": [
    {
     "data": {
      "text/html": [
       "<div>\n",
       "<style scoped>\n",
       "    .dataframe tbody tr th:only-of-type {\n",
       "        vertical-align: middle;\n",
       "    }\n",
       "\n",
       "    .dataframe tbody tr th {\n",
       "        vertical-align: top;\n",
       "    }\n",
       "\n",
       "    .dataframe thead th {\n",
       "        text-align: right;\n",
       "    }\n",
       "</style>\n",
       "<table border=\"1\" class=\"dataframe\">\n",
       "  <thead>\n",
       "    <tr style=\"text-align: right;\">\n",
       "      <th></th>\n",
       "      <th>City_origin</th>\n",
       "      <th>Country_origin</th>\n",
       "      <th>Latitude_origin</th>\n",
       "      <th>Longitude_origin</th>\n",
       "      <th>iso_code</th>\n",
       "      <th>population</th>\n",
       "      <th>GDP</th>\n",
       "      <th>two_letter_code</th>\n",
       "    </tr>\n",
       "  </thead>\n",
       "  <tbody>\n",
       "    <tr>\n",
       "      <th>0</th>\n",
       "      <td>Aalborg</td>\n",
       "      <td>Denmark</td>\n",
       "      <td>57.092759</td>\n",
       "      <td>9.849243</td>\n",
       "      <td>DNK</td>\n",
       "      <td>None</td>\n",
       "      <td>3.552224e+11</td>\n",
       "      <td>DK</td>\n",
       "    </tr>\n",
       "    <tr>\n",
       "      <th>1</th>\n",
       "      <td>Aarhus</td>\n",
       "      <td>Denmark</td>\n",
       "      <td>56.299999</td>\n",
       "      <td>10.619000</td>\n",
       "      <td>DNK</td>\n",
       "      <td>None</td>\n",
       "      <td>3.552224e+11</td>\n",
       "      <td>DK</td>\n",
       "    </tr>\n",
       "    <tr>\n",
       "      <th>2</th>\n",
       "      <td>Alicante</td>\n",
       "      <td>Spain</td>\n",
       "      <td>38.282200</td>\n",
       "      <td>-0.558156</td>\n",
       "      <td>ESP</td>\n",
       "      <td>None</td>\n",
       "      <td>1.276963e+12</td>\n",
       "      <td>ES</td>\n",
       "    </tr>\n",
       "    <tr>\n",
       "      <th>3</th>\n",
       "      <td>Antwerp</td>\n",
       "      <td>Belgium</td>\n",
       "      <td>51.189400</td>\n",
       "      <td>4.460280</td>\n",
       "      <td>BEL</td>\n",
       "      <td>None</td>\n",
       "      <td>5.252118e+11</td>\n",
       "      <td>BE</td>\n",
       "    </tr>\n",
       "    <tr>\n",
       "      <th>4</th>\n",
       "      <td>Stockholm</td>\n",
       "      <td>Sweden</td>\n",
       "      <td>59.651901</td>\n",
       "      <td>17.918600</td>\n",
       "      <td>SWE</td>\n",
       "      <td>None</td>\n",
       "      <td>5.470542e+11</td>\n",
       "      <td>SE</td>\n",
       "    </tr>\n",
       "  </tbody>\n",
       "</table>\n",
       "</div>"
      ],
      "text/plain": [
       "  City_origin Country_origin  Latitude_origin  Longitude_origin iso_code  \\\n",
       "0     Aalborg        Denmark        57.092759          9.849243      DNK   \n",
       "1      Aarhus        Denmark        56.299999         10.619000      DNK   \n",
       "2    Alicante          Spain        38.282200         -0.558156      ESP   \n",
       "3     Antwerp        Belgium        51.189400          4.460280      BEL   \n",
       "4   Stockholm         Sweden        59.651901         17.918600      SWE   \n",
       "\n",
       "  population           GDP two_letter_code  \n",
       "0       None  3.552224e+11              DK  \n",
       "1       None  3.552224e+11              DK  \n",
       "2       None  1.276963e+12              ES  \n",
       "3       None  5.252118e+11              BE  \n",
       "4       None  5.470542e+11              SE  "
      ]
     },
     "execution_count": 196,
     "metadata": {},
     "output_type": "execute_result"
    }
   ],
   "source": [
    "cities.head()"
   ]
  },
  {
   "cell_type": "code",
   "execution_count": 226,
   "id": "b55587f6",
   "metadata": {},
   "outputs": [],
   "source": [
    "geonames = pd.read_csv('/Users/vladislavluksha/Downloads/geonames-all-cities-with-a-population-1000.csv', sep =';')"
   ]
  },
  {
   "cell_type": "code",
   "execution_count": 227,
   "id": "b6b31998",
   "metadata": {},
   "outputs": [
    {
     "name": "stdout",
     "output_type": "stream",
     "text": [
      "<class 'pandas.core.frame.DataFrame'>\n",
      "RangeIndex: 140867 entries, 0 to 140866\n",
      "Data columns (total 4 columns):\n",
      " #   Column        Non-Null Count   Dtype \n",
      "---  ------        --------------   ----- \n",
      " 0   Name          140867 non-null  object\n",
      " 1   ASCII Name    140866 non-null  object\n",
      " 2   Country Code  140822 non-null  object\n",
      " 3   Population    140867 non-null  int64 \n",
      "dtypes: int64(1), object(3)\n",
      "memory usage: 4.3+ MB\n"
     ]
    }
   ],
   "source": [
    "geonames = geonames[['Name','ASCII Name','Country Code','Population']]\n",
    "geonames.info()"
   ]
  },
  {
   "cell_type": "code",
   "execution_count": 228,
   "id": "d14947bd",
   "metadata": {},
   "outputs": [],
   "source": [
    "merged_df = pd.merge(geonames, cities, how='right', left_on=['Name','Country Code'],right_on=['City_origin','two_letter_code'])\n",
    "\n"
   ]
  },
  {
   "cell_type": "code",
   "execution_count": 230,
   "id": "26c2b411",
   "metadata": {
    "scrolled": true
   },
   "outputs": [],
   "source": [
    "merged_df = merged_df.drop(columns=['Name','ASCII Name','Country Code'])"
   ]
  },
  {
   "cell_type": "code",
   "execution_count": 231,
   "id": "5761810f",
   "metadata": {},
   "outputs": [
    {
     "data": {
      "text/html": [
       "<div>\n",
       "<style scoped>\n",
       "    .dataframe tbody tr th:only-of-type {\n",
       "        vertical-align: middle;\n",
       "    }\n",
       "\n",
       "    .dataframe tbody tr th {\n",
       "        vertical-align: top;\n",
       "    }\n",
       "\n",
       "    .dataframe thead th {\n",
       "        text-align: right;\n",
       "    }\n",
       "</style>\n",
       "<table border=\"1\" class=\"dataframe\">\n",
       "  <thead>\n",
       "    <tr style=\"text-align: right;\">\n",
       "      <th></th>\n",
       "      <th>Population</th>\n",
       "      <th>City_origin</th>\n",
       "      <th>Country_origin</th>\n",
       "      <th>Latitude_origin</th>\n",
       "      <th>Longitude_origin</th>\n",
       "      <th>departure_iataCode</th>\n",
       "      <th>iso_code</th>\n",
       "      <th>GDP</th>\n",
       "      <th>two_letter_code</th>\n",
       "    </tr>\n",
       "  </thead>\n",
       "  <tbody>\n",
       "    <tr>\n",
       "      <th>0</th>\n",
       "      <td>142937.0</td>\n",
       "      <td>Aalborg</td>\n",
       "      <td>Denmark</td>\n",
       "      <td>57.092759</td>\n",
       "      <td>9.849243</td>\n",
       "      <td>AAL</td>\n",
       "      <td>DNK</td>\n",
       "      <td>3.552224e+11</td>\n",
       "      <td>DK</td>\n",
       "    </tr>\n",
       "    <tr>\n",
       "      <th>1</th>\n",
       "      <td>NaN</td>\n",
       "      <td>Aarhus</td>\n",
       "      <td>Denmark</td>\n",
       "      <td>56.299999</td>\n",
       "      <td>10.619000</td>\n",
       "      <td>AAR</td>\n",
       "      <td>DNK</td>\n",
       "      <td>3.552224e+11</td>\n",
       "      <td>DK</td>\n",
       "    </tr>\n",
       "    <tr>\n",
       "      <th>2</th>\n",
       "      <td>334757.0</td>\n",
       "      <td>Alicante</td>\n",
       "      <td>Spain</td>\n",
       "      <td>38.282200</td>\n",
       "      <td>-0.558156</td>\n",
       "      <td>ALC</td>\n",
       "      <td>ESP</td>\n",
       "      <td>1.276963e+12</td>\n",
       "      <td>ES</td>\n",
       "    </tr>\n",
       "    <tr>\n",
       "      <th>3</th>\n",
       "      <td>NaN</td>\n",
       "      <td>Antwerp</td>\n",
       "      <td>Belgium</td>\n",
       "      <td>51.189400</td>\n",
       "      <td>4.460280</td>\n",
       "      <td>ANR</td>\n",
       "      <td>BEL</td>\n",
       "      <td>5.252118e+11</td>\n",
       "      <td>BE</td>\n",
       "    </tr>\n",
       "    <tr>\n",
       "      <th>4</th>\n",
       "      <td>1515017.0</td>\n",
       "      <td>Stockholm</td>\n",
       "      <td>Sweden</td>\n",
       "      <td>59.651901</td>\n",
       "      <td>17.918600</td>\n",
       "      <td>ARN</td>\n",
       "      <td>SWE</td>\n",
       "      <td>5.470542e+11</td>\n",
       "      <td>SE</td>\n",
       "    </tr>\n",
       "  </tbody>\n",
       "</table>\n",
       "</div>"
      ],
      "text/plain": [
       "   Population City_origin Country_origin  Latitude_origin  Longitude_origin  \\\n",
       "0    142937.0     Aalborg        Denmark        57.092759          9.849243   \n",
       "1         NaN      Aarhus        Denmark        56.299999         10.619000   \n",
       "2    334757.0    Alicante          Spain        38.282200         -0.558156   \n",
       "3         NaN     Antwerp        Belgium        51.189400          4.460280   \n",
       "4   1515017.0   Stockholm         Sweden        59.651901         17.918600   \n",
       "\n",
       "  departure_iataCode iso_code           GDP two_letter_code  \n",
       "0                AAL      DNK  3.552224e+11              DK  \n",
       "1                AAR      DNK  3.552224e+11              DK  \n",
       "2                ALC      ESP  1.276963e+12              ES  \n",
       "3                ANR      BEL  5.252118e+11              BE  \n",
       "4                ARN      SWE  5.470542e+11              SE  "
      ]
     },
     "execution_count": 231,
     "metadata": {},
     "output_type": "execute_result"
    }
   ],
   "source": [
    "merged_df.head()"
   ]
  },
  {
   "cell_type": "code",
   "execution_count": 133,
   "id": "071f7454",
   "metadata": {
    "scrolled": true
   },
   "outputs": [
    {
     "data": {
      "text/html": [
       "<div>\n",
       "<style scoped>\n",
       "    .dataframe tbody tr th:only-of-type {\n",
       "        vertical-align: middle;\n",
       "    }\n",
       "\n",
       "    .dataframe tbody tr th {\n",
       "        vertical-align: top;\n",
       "    }\n",
       "\n",
       "    .dataframe thead th {\n",
       "        text-align: right;\n",
       "    }\n",
       "</style>\n",
       "<table border=\"1\" class=\"dataframe\">\n",
       "  <thead>\n",
       "    <tr style=\"text-align: right;\">\n",
       "      <th></th>\n",
       "      <th>Population</th>\n",
       "      <th>City_origin</th>\n",
       "      <th>Country_origin</th>\n",
       "      <th>GDP</th>\n",
       "      <th>iso_code</th>\n",
       "      <th>two_letter_code</th>\n",
       "    </tr>\n",
       "  </thead>\n",
       "  <tbody>\n",
       "    <tr>\n",
       "      <th>0</th>\n",
       "      <td>142937.0</td>\n",
       "      <td>Aalborg</td>\n",
       "      <td>Denmark</td>\n",
       "      <td>3.552224e+11</td>\n",
       "      <td>DNK</td>\n",
       "      <td>DK</td>\n",
       "    </tr>\n",
       "    <tr>\n",
       "      <th>2</th>\n",
       "      <td>334757.0</td>\n",
       "      <td>Alicante</td>\n",
       "      <td>Spain</td>\n",
       "      <td>1.276963e+12</td>\n",
       "      <td>ESP</td>\n",
       "      <td>ES</td>\n",
       "    </tr>\n",
       "    <tr>\n",
       "      <th>4</th>\n",
       "      <td>1515017.0</td>\n",
       "      <td>Stockholm</td>\n",
       "      <td>Sweden</td>\n",
       "      <td>5.470542e+11</td>\n",
       "      <td>SWE</td>\n",
       "      <td>SE</td>\n",
       "    </tr>\n",
       "    <tr>\n",
       "      <th>5</th>\n",
       "      <td>1620343.0</td>\n",
       "      <td>Barcelona</td>\n",
       "      <td>Spain</td>\n",
       "      <td>1.276963e+12</td>\n",
       "      <td>ESP</td>\n",
       "      <td>ES</td>\n",
       "    </tr>\n",
       "    <tr>\n",
       "      <th>6</th>\n",
       "      <td>1273651.0</td>\n",
       "      <td>Belgrade</td>\n",
       "      <td>Serbia</td>\n",
       "      <td>5.335648e+10</td>\n",
       "      <td>SRB</td>\n",
       "      <td>RS</td>\n",
       "    </tr>\n",
       "    <tr>\n",
       "      <th>...</th>\n",
       "      <td>...</td>\n",
       "      <td>...</td>\n",
       "      <td>...</td>\n",
       "      <td>...</td>\n",
       "      <td>...</td>\n",
       "      <td>...</td>\n",
       "    </tr>\n",
       "    <tr>\n",
       "      <th>611</th>\n",
       "      <td>49232.0</td>\n",
       "      <td>Annecy</td>\n",
       "      <td>France</td>\n",
       "      <td>2.639009e+12</td>\n",
       "      <td>FRA</td>\n",
       "      <td>FR</td>\n",
       "    </tr>\n",
       "    <tr>\n",
       "      <th>612</th>\n",
       "      <td>28334.0</td>\n",
       "      <td>Geilenkirchen</td>\n",
       "      <td>Germany</td>\n",
       "      <td>3.889669e+12</td>\n",
       "      <td>DEU</td>\n",
       "      <td>DE</td>\n",
       "    </tr>\n",
       "    <tr>\n",
       "      <th>613</th>\n",
       "      <td>68082.0</td>\n",
       "      <td>Neubrandenburg</td>\n",
       "      <td>Germany</td>\n",
       "      <td>3.889669e+12</td>\n",
       "      <td>DEU</td>\n",
       "      <td>DE</td>\n",
       "    </tr>\n",
       "    <tr>\n",
       "      <th>614</th>\n",
       "      <td>64754.0</td>\n",
       "      <td>Nakhchivan</td>\n",
       "      <td>Azerbaijan</td>\n",
       "      <td>4.269300e+10</td>\n",
       "      <td>AZE</td>\n",
       "      <td>AZ</td>\n",
       "    </tr>\n",
       "    <tr>\n",
       "      <th>615</th>\n",
       "      <td>312420.0</td>\n",
       "      <td>Vologda</td>\n",
       "      <td>Russia</td>\n",
       "      <td>1.489362e+12</td>\n",
       "      <td>RUS</td>\n",
       "      <td>RU</td>\n",
       "    </tr>\n",
       "  </tbody>\n",
       "</table>\n",
       "<p>400 rows × 6 columns</p>\n",
       "</div>"
      ],
      "text/plain": [
       "     Population     City_origin Country_origin           GDP iso_code  \\\n",
       "0      142937.0         Aalborg        Denmark  3.552224e+11      DNK   \n",
       "2      334757.0        Alicante          Spain  1.276963e+12      ESP   \n",
       "4     1515017.0       Stockholm         Sweden  5.470542e+11      SWE   \n",
       "5     1620343.0       Barcelona          Spain  1.276963e+12      ESP   \n",
       "6     1273651.0        Belgrade         Serbia  5.335648e+10      SRB   \n",
       "..          ...             ...            ...           ...      ...   \n",
       "611     49232.0          Annecy         France  2.639009e+12      FRA   \n",
       "612     28334.0   Geilenkirchen        Germany  3.889669e+12      DEU   \n",
       "613     68082.0  Neubrandenburg        Germany  3.889669e+12      DEU   \n",
       "614     64754.0      Nakhchivan     Azerbaijan  4.269300e+10      AZE   \n",
       "615    312420.0         Vologda         Russia  1.489362e+12      RUS   \n",
       "\n",
       "    two_letter_code  \n",
       "0                DK  \n",
       "2                ES  \n",
       "4                SE  \n",
       "5                ES  \n",
       "6                RS  \n",
       "..              ...  \n",
       "611              FR  \n",
       "612              DE  \n",
       "613              DE  \n",
       "614              AZ  \n",
       "615              RU  \n",
       "\n",
       "[400 rows x 6 columns]"
      ]
     },
     "execution_count": 133,
     "metadata": {},
     "output_type": "execute_result"
    }
   ],
   "source": [
    "merged_df[~merged_df['Population'].isna()]"
   ]
  },
  {
   "cell_type": "code",
   "execution_count": 232,
   "id": "528b5cf2",
   "metadata": {},
   "outputs": [],
   "source": [
    "merged_df.to_csv('populationgdp.csv', index=False)"
   ]
  },
  {
   "cell_type": "markdown",
   "id": "1e5f5f48",
   "metadata": {},
   "source": [
    "##### "
   ]
  },
  {
   "cell_type": "code",
   "execution_count": null,
   "id": "ff569424",
   "metadata": {},
   "outputs": [],
   "source": []
  }
 ],
 "metadata": {
  "kernelspec": {
   "display_name": "Python 3 (ipykernel)",
   "language": "python",
   "name": "python3"
  },
  "language_info": {
   "codemirror_mode": {
    "name": "ipython",
    "version": 3
   },
   "file_extension": ".py",
   "mimetype": "text/x-python",
   "name": "python",
   "nbconvert_exporter": "python",
   "pygments_lexer": "ipython3",
   "version": "3.9.13"
  }
 },
 "nbformat": 4,
 "nbformat_minor": 5
}
